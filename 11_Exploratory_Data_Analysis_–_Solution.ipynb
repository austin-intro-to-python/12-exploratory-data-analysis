{
  "cells": [
    {
      "cell_type": "code",
      "execution_count": null,
      "metadata": {
        "id": "wK9w2-mDRgiK"
      },
      "outputs": [],
      "source": [
        "# 8.1 EDA Demonstration\n",
        "import pandas as pd\n",
        "%matplotlib inline"
      ]
    },
    {
      "cell_type": "code",
      "execution_count": null,
      "metadata": {
        "id": "DP87l91URgiP"
      },
      "outputs": [],
      "source": [
        "# We will store the table csv data in a variable\n",
        "# Tabs are used as the separating character in this file\n",
        "orders = pd.read_csv('./datasets/orders.csv')"
      ]
    },
    {
      "cell_type": "code",
      "execution_count": null,
      "metadata": {
        "scrolled": false,
        "id": "JBRsbDZ-RgiQ"
      },
      "outputs": [],
      "source": [
        "# Use the head method to investigate the first row of data\n",
        "orders.head()"
      ]
    },
    {
      "cell_type": "code",
      "execution_count": null,
      "metadata": {
        "id": "EU26bED1RgiQ"
      },
      "outputs": [],
      "source": [
        "# Create a dataframe to view the column names and data types\n",
        "pd.DataFrame(orders.dtypes, columns=[\"DataType\"])"
      ]
    },
    {
      "cell_type": "code",
      "execution_count": null,
      "metadata": {
        "id": "7n7mylUkRgiR"
      },
      "outputs": [],
      "source": [
        "# Use the shape attribute to determine the amount of rows and columns total\n",
        "orders.shape\n",
        "print(f\"There are {orders.shape[0]} rows and {orders.shape[1]} columns\")"
      ]
    },
    {
      "cell_type": "code",
      "execution_count": null,
      "metadata": {
        "id": "QWk-oYHPRgiR"
      },
      "outputs": [],
      "source": [
        "# Use the .columns property to list out the column names\n",
        "# Use the .index.name property to identify the index\n",
        "print(orders.columns)\n",
        "print(orders.index.name)"
      ]
    },
    {
      "cell_type": "code",
      "execution_count": null,
      "metadata": {
        "id": "-D8OVPNjRgiS"
      },
      "outputs": [],
      "source": [
        "# Provide a dictionary to the rename method to rename any columns\n",
        "# The inplace flag determines whether to modify the original dataframe\n",
        "orders.rename(columns={\"discount\": \"discount_amount\", \"order_date\": \"ordered_on_date\"}, inplace=False)"
      ]
    },
    {
      "cell_type": "code",
      "execution_count": null,
      "metadata": {
        "id": "LXvFmnXzRgiS"
      },
      "outputs": [],
      "source": [
        "# Explore columns with column attributes and methods\n",
        "orders['postal_code'].value_counts()\n",
        "len(orders['postal_code'].unique())\n",
        "orders['profit'].describe()"
      ]
    },
    {
      "cell_type": "code",
      "execution_count": null,
      "metadata": {
        "id": "TW9AkUYoRgiT"
      },
      "outputs": [],
      "source": [
        "# 8.2 Exploring a new dataset\n",
        "# Import the products.csv dataset and explore the following questions:\n",
        "products = pd.read_csv('./datasets/products.csv')"
      ]
    },
    {
      "cell_type": "code",
      "execution_count": null,
      "metadata": {
        "scrolled": false,
        "id": "TJ62RXK-RgiU"
      },
      "outputs": [],
      "source": [
        "# A. What are the columns and index: do they suggest any relationship to other tables?\n",
        "products.columns"
      ]
    },
    {
      "cell_type": "code",
      "execution_count": null,
      "metadata": {
        "id": "Ks-3uiyZRgiV"
      },
      "outputs": [],
      "source": [
        "# B. How many rows of data are there?\n",
        "products.shape[0]"
      ]
    },
    {
      "cell_type": "code",
      "execution_count": null,
      "metadata": {
        "id": "r686W75CRgiV"
      },
      "outputs": [],
      "source": [
        "# C. What are the types of each column?\n",
        "pd.DataFrame(products.dtypes, columns=[\"DataType\"])"
      ]
    },
    {
      "cell_type": "code",
      "execution_count": null,
      "metadata": {
        "id": "VCu6-axzRgiW"
      },
      "outputs": [],
      "source": [
        "# 8.3 Boolean Filtering\n",
        "# Let's return to the orders dataset for the rest of the challenges\n",
        "# Use boolean filtering and DataFrame/DataSeries methods to solve the following challanges:"
      ]
    },
    {
      "cell_type": "code",
      "execution_count": null,
      "metadata": {
        "id": "2iCzMIb7RgiW"
      },
      "outputs": [],
      "source": [
        "# A. What is the mean profit of orders where the ship_mode is \"Second Class\"\n",
        "orders[orders[\"ship_mode\"] == \"Second Class\"][\"profit\"].mean()"
      ]
    },
    {
      "cell_type": "code",
      "execution_count": null,
      "metadata": {
        "id": "_Zgl0aZXRgiW"
      },
      "outputs": [],
      "source": [
        "# B. Which product is the most commonly ordered on 2017-06-08 \n",
        "orders[orders[\"order_date\"]==\"2017-06-08\"][\"product_id\"].value_counts()"
      ]
    },
    {
      "cell_type": "code",
      "execution_count": null,
      "metadata": {
        "id": "i_AppIjARgiX"
      },
      "outputs": [],
      "source": [
        "# 8.4 Sorting and Filtering"
      ]
    },
    {
      "cell_type": "code",
      "execution_count": null,
      "metadata": {
        "id": "FkTsBvLhRgiX"
      },
      "outputs": [],
      "source": [
        "# A. What are the three most profitable orders purchased by customer PO-8865?\n",
        "orders[orders['customer_id'] == \"PO-8865\"].sort_values(by=\"profit\", ascending=False).head(3)"
      ]
    },
    {
      "cell_type": "code",
      "execution_count": null,
      "metadata": {
        "id": "u_5B7Rf4RgiX"
      },
      "outputs": [],
      "source": [
        "# B. What are the five orders of product_id TEC-HEW-10002304 with the highest quanitity?\n",
        "orders[orders['product_id'] == 'TEC-HEW-10002304'].sort_values(by='quantity', ascending=False).head(5)"
      ]
    },
    {
      "cell_type": "markdown",
      "metadata": {
        "id": "cOn1IzvkRgiY"
      },
      "source": [
        "## Recap\n",
        "\n",
        "We covered a lot of ground! It's ok if this takes a while to gel.\n",
        "\n",
        "```python\n",
        "\n",
        "# basic DataFrame operations\n",
        "df.head()\n",
        "df.tail()\n",
        "df.shape\n",
        "df.columns\n",
        "df.Index\n",
        "\n",
        "# selecting columns\n",
        "df.column_name\n",
        "df['column_name']\n",
        "\n",
        "# renaming columns\n",
        "df.rename({'old_name':'new_name'}, inplace=True)\n",
        "df.columns = ['new_column_a', 'new_column_b']\n",
        "\n",
        "# notable columns operations\n",
        "df.describe() # five number summary\n",
        "df['col1'].nunique() # number of unique values\n",
        "df['col1'].value_counts() # number of occurrences of each value in column\n",
        "\n",
        "# filtering\n",
        "df[ df['col1'] < 50 ] # filter column to be less than 50\n",
        "df[ (df['col1'] == value1) & (df['col2'] > value2) ] # filter column where col1 is equal to value1 AND col2 is greater to value 2\n",
        "\n",
        "# sorting\n",
        "df.sort_values(by='column_name', ascending = False) # sort biggest to smallest\n",
        "\n",
        "```\n",
        "\n",
        "\n",
        "It's common to refer back to your own code *all the time.* Don't hesistate to reference this guide! 🐼\n",
        "\n",
        "\n"
      ]
    }
  ],
  "metadata": {
    "kernelspec": {
      "display_name": "Python 3",
      "language": "python",
      "name": "python3"
    },
    "language_info": {
      "codemirror_mode": {
        "name": "ipython",
        "version": 3
      },
      "file_extension": ".py",
      "mimetype": "text/x-python",
      "name": "python",
      "nbconvert_exporter": "python",
      "pygments_lexer": "ipython3",
      "version": "3.7.6"
    },
    "colab": {
      "name": "11. Exploratory Data Analysis – Solution.ipynb",
      "provenance": []
    }
  },
  "nbformat": 4,
  "nbformat_minor": 0
}